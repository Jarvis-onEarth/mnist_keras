{
  "nbformat": 4,
  "nbformat_minor": 0,
  "metadata": {
    "colab": {
      "name": "mnist_using_keras.ipynb",
      "version": "0.3.2",
      "provenance": [],
      "collapsed_sections": []
    },
    "kernelspec": {
      "name": "python3",
      "display_name": "Python 3"
    },
    "accelerator": "GPU"
  },
  "cells": [
    {
      "cell_type": "code",
      "metadata": {
        "id": "Mfsu8T7JEIxB",
        "colab_type": "code",
        "outputId": "d4cab9df-4993-4e84-9b82-859f0c144362",
        "colab": {
          "base_uri": "https://localhost:8080/",
          "height": 479
        }
      },
      "source": [
        "import tensorflow as tf\n",
        "from tensorflow import keras\n",
        "from tensorflow.keras.datasets import mnist\n",
        "from tensorflow.keras.models import Sequential\n",
        "from tensorflow.keras.layers import Dense, Conv2D, Flatten\n",
        "from tensorflow.keras.utils import to_categorical\n",
        "\n",
        "\"\"\" Force to run on GPU \"\"\"\n",
        "config = tf.compat.v1.ConfigProto( device_count = {'GPU': 1} )\n",
        "sess = tf.compat.v1.Session(config=config)\n",
        "tf.compat.v1.keras.backend.set_session(sess)\n",
        "\n",
        "\"\"\"download mnist data and split into train and test sets \"\"\"\n",
        "(x_train, y_train), (x_test, y_test) = mnist.load_data()\n",
        "\n",
        "print(x_train[0].shape)\n",
        "\n",
        "x_train = x_train.reshape(60000, 28, 28, 1)\n",
        "x_test = x_test.reshape(10000, 28, 28, 1)\n",
        "\n",
        "\"\"\" one-hot encode target column\"\"\"\n",
        "y_train = to_categorical(y_train)\n",
        "y_test = to_categorical(y_test)\n",
        "\n",
        "print (y_train[0])\n",
        "\n",
        "model = Sequential()\n",
        "model.add(Conv2D(64, kernel_size=3, activation='relu', input_shape=(28, 28, 1)))\n",
        "model.add(Conv2D(32, kernel_size=3, activation='relu'))\n",
        "model.add(Flatten())\n",
        "model.add(Dense(10, activation='softmax'))\n",
        "\n",
        "model.compile(optimizer='adam', loss='categorical_crossentropy', metrics=['accuracy'])\n",
        "\n",
        "model.fit(x_train, y_train, validation_data=(x_test, y_test), epochs=3)\n",
        "\n",
        "print(model.predict(x_test[:4]))\n",
        "print(y_test[:4])\n"
      ],
      "execution_count": 0,
      "outputs": [
        {
          "output_type": "stream",
          "text": [
            "Downloading data from https://storage.googleapis.com/tensorflow/tf-keras-datasets/mnist.npz\n",
            "11493376/11490434 [==============================] - 0s 0us/step\n",
            "(28, 28)\n",
            "[0. 0. 0. 0. 0. 1. 0. 0. 0. 0.]\n",
            "WARNING:tensorflow:From /usr/local/lib/python3.6/dist-packages/tensorflow/python/ops/init_ops.py:1251: calling VarianceScaling.__init__ (from tensorflow.python.ops.init_ops) with dtype is deprecated and will be removed in a future version.\n",
            "Instructions for updating:\n",
            "Call initializer instance with the dtype argument instead of passing it to the constructor\n",
            "Train on 60000 samples, validate on 10000 samples\n",
            "Epoch 1/3\n",
            "60000/60000 [==============================] - 18s 296us/sample - loss: 0.1705 - acc: 0.9553 - val_loss: 0.0993 - val_acc: 0.9696\n",
            "Epoch 2/3\n",
            "60000/60000 [==============================] - 15s 250us/sample - loss: 0.0651 - acc: 0.9801 - val_loss: 0.0774 - val_acc: 0.9746\n",
            "Epoch 3/3\n",
            "60000/60000 [==============================] - 14s 237us/sample - loss: 0.0459 - acc: 0.9853 - val_loss: 0.0922 - val_acc: 0.9772\n",
            "[[7.2851669e-13 2.6434479e-14 4.1300910e-07 1.0733057e-07 2.7721461e-16\n",
            "  1.0003046e-15 8.3262993e-14 9.9999952e-01 2.6230105e-11 3.5738474e-08]\n",
            " [3.1240427e-11 1.6591356e-10 1.0000000e+00 7.5458856e-10 6.2343387e-11\n",
            "  1.8186914e-16 8.4902876e-09 8.2232301e-17 1.5445103e-09 2.1766782e-18]\n",
            " [3.5711325e-06 9.9571627e-01 1.6885342e-05 4.8402158e-09 3.9979118e-06\n",
            "  7.2776729e-06 8.1268563e-06 3.2752964e-06 4.2406516e-03 1.9907647e-08]\n",
            " [1.0000000e+00 1.2892565e-09 2.6051745e-09 2.0857273e-10 3.5642570e-12\n",
            "  5.3447347e-10 2.0671585e-08 4.5293061e-11 1.5027817e-08 3.1797796e-09]]\n",
            "[[0. 0. 0. 0. 0. 0. 0. 1. 0. 0.]\n",
            " [0. 0. 1. 0. 0. 0. 0. 0. 0. 0.]\n",
            " [0. 1. 0. 0. 0. 0. 0. 0. 0. 0.]\n",
            " [1. 0. 0. 0. 0. 0. 0. 0. 0. 0.]]\n"
          ],
          "name": "stdout"
        }
      ]
    }
  ]
}